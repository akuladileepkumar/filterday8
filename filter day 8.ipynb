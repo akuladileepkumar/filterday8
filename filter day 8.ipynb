{
 "cells": [
  {
   "cell_type": "code",
   "execution_count": 4,
   "id": "9a67a1a8",
   "metadata": {},
   "outputs": [
    {
     "name": "stdout",
     "output_type": "stream",
     "text": [
      "[1, 3, 5, 7, 9]\n"
     ]
    }
   ],
   "source": [
    "d=[0,1,2,3,4,5,6,7,8,9,10]\n",
    "#result contains odd numbers of the list\n",
    "f=filter(lambda x:x%2!=0,d)\n",
    "print(list(f))"
   ]
  },
  {
   "cell_type": "code",
   "execution_count": 5,
   "id": "0c1f854a",
   "metadata": {},
   "outputs": [
    {
     "name": "stdout",
     "output_type": "stream",
     "text": [
      "[0, 2, 4, 6, 8, 10]\n"
     ]
    }
   ],
   "source": [
    "d=[0,1,2,3,4,5,6,7,8,9,10]\n",
    "#result contains even number of the list\n",
    "g=filter(lambda x:x%2==0,d)\n",
    "print(list(g))"
   ]
  },
  {
   "cell_type": "code",
   "execution_count": 7,
   "id": "023cdc39",
   "metadata": {},
   "outputs": [
    {
     "name": "stdout",
     "output_type": "stream",
     "text": [
      "[3, 6, 9]\n"
     ]
    }
   ],
   "source": [
    "d=[1,2,3,4,5,6,7,8,9,10]\n",
    "#result contains multiple number of 3\n",
    "n=filter(lambda x:x%3==0,d)\n",
    "print(list(n))"
   ]
  }
 ],
 "metadata": {
  "kernelspec": {
   "display_name": "Python 3 (ipykernel)",
   "language": "python",
   "name": "python3"
  },
  "language_info": {
   "codemirror_mode": {
    "name": "ipython",
    "version": 3
   },
   "file_extension": ".py",
   "mimetype": "text/x-python",
   "name": "python",
   "nbconvert_exporter": "python",
   "pygments_lexer": "ipython3",
   "version": "3.11.4"
  }
 },
 "nbformat": 4,
 "nbformat_minor": 5
}
